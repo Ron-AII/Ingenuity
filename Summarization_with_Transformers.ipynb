{
  "nbformat": 4,
  "nbformat_minor": 0,
  "metadata": {
    "colab": {
      "provenance": []
    },
    "kernelspec": {
      "name": "python3",
      "display_name": "Python 3"
    },
    "language_info": {
      "name": "python"
    }
  },
  "cells": [
    {
      "cell_type": "code",
      "execution_count": null,
      "metadata": {
        "id": "j0e2IcJ7L35n"
      },
      "outputs": [],
      "source": [
        "# Install the required packages if they are not already installed\n",
        "!pip install python-dotenv beautifulsoup4 requests transformers"
      ]
    },
    {
      "cell_type": "code",
      "source": [
        "# Imports\n",
        "import os\n",
        "import requests\n",
        "from dotenv import load_dotenv\n",
        "from bs4 import BeautifulSoup\n",
        "from IPython.display import Markdown, display\n",
        "from transformers import pipeline"
      ],
      "metadata": {
        "id": "WQtvZvH2MTOT"
      },
      "execution_count": null,
      "outputs": []
    },
    {
      "cell_type": "code",
      "source": [
        "# Load environment variables (if using a .env file, otherwise this step is optional)\n",
        "load_dotenv()"
      ],
      "metadata": {
        "id": "zAIj6ChQMXAF"
      },
      "execution_count": null,
      "outputs": []
    },
    {
      "cell_type": "code",
      "source": [
        "# A class to represent a Webpage\n",
        "class Website:\n",
        "    url: str\n",
        "    title: str\n",
        "    text: str\n",
        "\n",
        "    def __init__(self, url):\n",
        "        self.url = url\n",
        "        # Send a GET request to the provided URL\n",
        "        headers = {\n",
        "            \"User-Agent\": \"Mozilla/5.0 (Windows NT 10.0; Win64; x64) AppleWebKit/537.36 (KHTML, like Gecko) Chrome/58.0.3029.110 Safari/537.3\"\n",
        "        }\n",
        "        response = requests.get(url, headers=headers)\n",
        "\n",
        "        # Check if the request was successful\n",
        "        if response.status_code == 200:\n",
        "            # Use BeautifulSoup to parse the HTML content\n",
        "            soup = BeautifulSoup(response.content, 'html.parser')\n",
        "            # Extract the title of the webpage\n",
        "            self.title = soup.title.string if soup.title else \"No title found\"\n",
        "            # Remove irrelevant elements like script, style, img, and input for cleaner text\n",
        "            for irrelevant in soup.body([\"script\", \"style\", \"img\", \"input\"]):\n",
        "                irrelevant.decompose()\n",
        "            # Extract clean text from the HTML body\n",
        "            self.text = soup.body.get_text(separator=\"\\n\", strip=True)\n",
        "        else:\n",
        "            self.title = \"Failed to retrieve page\"\n",
        "            self.text = f\"Error {response.status_code}: Could not retrieve content from the URL\"\n"
      ],
      "metadata": {
        "id": "lFHo-f8hMYJA"
      },
      "execution_count": null,
      "outputs": []
    },
    {
      "cell_type": "code",
      "source": [
        "# Function to generate a summary using Pegasus\n",
        "def summarize(url):\n",
        "    website = Website(url)\n",
        "    #summarizer = pipeline(\"summarization\", model=\"google/pegasus-xsum\")  # Using Pegasus model for summarization\n",
        "    #summarizer = pipeline(\"summarization\", model=\"facebook/bart-large-cnn\")  # Using BART model for summarization\n",
        "    summarizer = pipeline(\"summarization\", model=\"t5-small\")  # Using T5 model for summarization\n",
        "    # Preprocess the text: limit the length for the summarization model\n",
        "    input_text = website.text[:2000]  # Adjust as needed; Both Pegasus & BART can handle longer inputs than T5. For T5 use 1000\n",
        "    # Handle edge cases when the text is too short or empty\n",
        "    if not input_text.strip():\n",
        "        return \"No content available to summarize.\"\n",
        "    # Generate the summary\n",
        "    summary_output = summarizer(input_text, max_length=200, min_length=60, do_sample=False)\n",
        "    summary = summary_output[0]['summary_text']\n",
        "    return summary"
      ],
      "metadata": {
        "id": "cu_d--dTMfzc"
      },
      "execution_count": null,
      "outputs": []
    },
    {
      "cell_type": "code",
      "source": [
        "# Display the summary using Markdown for better readability in Colab\n",
        "def display_summary(url):\n",
        "    summary = summarize(url)\n",
        "    display(Markdown(f\"### Summary of {url}:\\n\\n{summary}\"))"
      ],
      "metadata": {
        "id": "Naaor_dmNANw"
      },
      "execution_count": null,
      "outputs": []
    },
    {
      "cell_type": "code",
      "source": [
        "# Example usage with the specified URL\n",
        "display_summary(\"https://en.wikipedia.org/wiki/Main_Page\")"
      ],
      "metadata": {
        "id": "C421QLXGNDme"
      },
      "execution_count": null,
      "outputs": []
    }
  ]
}
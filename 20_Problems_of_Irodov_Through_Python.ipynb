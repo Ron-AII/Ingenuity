{
  "nbformat": 4,
  "nbformat_minor": 0,
  "metadata": {
    "colab": {
      "provenance": [],
      "authorship_tag": "ABX9TyOZH9LfNIUT0i8gWLPAfKpf",
      "include_colab_link": true
    },
    "kernelspec": {
      "name": "python3",
      "display_name": "Python 3"
    },
    "language_info": {
      "name": "python"
    }
  },
  "cells": [
    {
      "cell_type": "markdown",
      "metadata": {
        "id": "view-in-github",
        "colab_type": "text"
      },
      "source": [
        "<a href=\"https://colab.research.google.com/github/Ron-AII/Ingenuity/blob/main/20_Problems_of_Irodov_Through_Python.ipynb\" target=\"_parent\"><img src=\"https://colab.research.google.com/assets/colab-badge.svg\" alt=\"Open In Colab\"/></a>"
      ]
    },
    {
      "cell_type": "code",
      "execution_count": 4,
      "metadata": {
        "colab": {
          "base_uri": "https://localhost:8080/"
        },
        "id": "7OMvfxk3IWWl",
        "outputId": "d12a9eaf-1c2e-4b96-8964-e7902f971467"
      },
      "outputs": [
        {
          "output_type": "stream",
          "name": "stdout",
          "text": [
            "Problem 1: Velocity of the ball before collision: 15.41 m/s\n"
          ]
        }
      ],
      "source": [
        "# Problem 1: Ballistic Pendulum\n",
        "# Problem Statement:\n",
        "# A ball of mass m is fired with a velocity v into a pendulum of mass M.\n",
        "# The pendulum swings to a maximum height h.\n",
        "# Determine the velocity of the ball before the collision using conservation of momentum and energy.\n",
        "# Special Approach:\n",
        "# - Use the conservation of momentum for the collision.\n",
        "# - Apply the principle of conservation of energy to calculate height.\n",
        "\n",
        "import math\n",
        "\n",
        "def ballistic_pendulum(m, M, h):\n",
        "    g = 9.81  # gravitational acceleration\n",
        "    v_combined = math.sqrt(2 * g * h)  # velocity of combined mass after collision\n",
        "    v_ball = (m + M) * v_combined / m  # velocity of the ball before collision\n",
        "    return v_ball\n",
        "\n",
        "# Example values:\n",
        "m = 0.2  # kg\n",
        "M = 2.0  # kg\n",
        "h = 0.1  # m\n",
        "v_ball = ballistic_pendulum(m, M, h)\n",
        "print(f\"Problem 1: Velocity of the ball before collision: {v_ball:.2f} m/s\")\n"
      ]
    },
    {
      "cell_type": "code",
      "source": [
        "# Problem 2: Rotating Rod\n",
        "# Problem Statement:\n",
        "# A rod of length L and mass M is rotating about an axis passing through one end of the rod.\n",
        "# Calculate the moment of inertia of the rod about this axis.\n",
        "# Special Approach:\n",
        "# - Use integration to calculate mass elements along the rod.\n",
        "\n",
        "def moment_of_inertia_rod(L, M):\n",
        "    return (1/3) * M * L**2\n",
        "\n",
        "# Example values:\n",
        "L = 2.0  # m\n",
        "M = 5.0  # kg\n",
        "I = moment_of_inertia_rod(L, M)\n",
        "print(f\"Problem 2: Moment of inertia of the rod: {I:.2f} kg·m²\")"
      ],
      "metadata": {
        "colab": {
          "base_uri": "https://localhost:8080/"
        },
        "id": "q0jWoEyAJV37",
        "outputId": "ddd2ccca-fc37-4535-d357-6fbbdac27f61"
      },
      "execution_count": 5,
      "outputs": [
        {
          "output_type": "stream",
          "name": "stdout",
          "text": [
            "Problem 2: Moment of inertia of the rod: 6.67 kg·m²\n"
          ]
        }
      ]
    },
    {
      "cell_type": "code",
      "source": [
        "\n",
        "# Problem 3: Adiabatic Processes\n",
        "# Problem Statement:\n",
        "# A gas undergoes an adiabatic expansion.\n",
        "# Calculate the final pressure and volume when the initial state and final temperature are known.\n",
        "# Special Approach:\n",
        "# - Use the adiabatic relation PV^γ = constant and thermodynamic principles.\n",
        "\n",
        "def adiabatic_process(P1, V1, T1, T2, gamma):\n",
        "    V2 = V1 * (T1 / T2)**(1 / (gamma - 1))\n",
        "    P2 = P1 * (V1 / V2)**gamma\n",
        "    return P2, V2\n",
        "\n",
        "# Example values:\n",
        "P1 = 100000  # Pa\n",
        "V1 = 0.1  # m³\n",
        "T1 = 300  # K\n",
        "T2 = 250  # K\n",
        "gamma = 1.4  # for diatomic gases\n",
        "P2, V2 = adiabatic_process(P1, V1, T1, T2, gamma)\n",
        "print(f\"Problem 3: Final Pressure: {P2:.2f} Pa, Final Volume: {V2:.2f} m³\")"
      ],
      "metadata": {
        "colab": {
          "base_uri": "https://localhost:8080/"
        },
        "id": "A0Grs1lQJWEL",
        "outputId": "8ec606b9-114d-43d4-900b-7af2b09bfc18"
      },
      "execution_count": 6,
      "outputs": [
        {
          "output_type": "stream",
          "name": "stdout",
          "text": [
            "Problem 3: Final Pressure: 52828.18 Pa, Final Volume: 0.16 m³\n"
          ]
        }
      ]
    },
    {
      "cell_type": "code",
      "source": [
        "\n",
        "# Problem 4: Van der Waals Equation\n",
        "# Problem Statement:\n",
        "# A gas obeys the Van der Waals equation.\n",
        "# Determine the critical temperature and pressure for the gas.\n",
        "# Special Approach:\n",
        "# - Differentiate the Van der Waals equation to find critical points.\n",
        "\n",
        "def van_der_waals_critical(a, b, R):\n",
        "    T_c = (8 * a) / (27 * b * R)\n",
        "    P_c = (a) / (27 * b**2)\n",
        "    return T_c, P_c\n",
        "\n",
        "# Example values:\n",
        "a = 0.5  # Pa·m^6/mol^2\n",
        "b = 0.04  # m³/mol\n",
        "R = 8.314  # J/mol·K\n",
        "T_c, P_c = van_der_waals_critical(a, b, R)\n",
        "print(f\"Problem 4: Critical Temperature: {T_c:.2f} K, Critical Pressure: {P_c:.2f} Pa\")"
      ],
      "metadata": {
        "colab": {
          "base_uri": "https://localhost:8080/"
        },
        "id": "V7rPwqP5JWL_",
        "outputId": "315220b0-5ac9-4bea-b456-25f09b741d7c"
      },
      "execution_count": 7,
      "outputs": [
        {
          "output_type": "stream",
          "name": "stdout",
          "text": [
            "Problem 4: Critical Temperature: 0.45 K, Critical Pressure: 11.57 Pa\n"
          ]
        }
      ]
    },
    {
      "cell_type": "code",
      "source": [
        "# Problem 5: Satellite Motion\n",
        "# Problem Statement:\n",
        "# Calculate the orbital velocity of a satellite at a height h above the Earth’s surface.\n",
        "# Special Approach:\n",
        "# - Use the centripetal force and gravitational force equilibrium.\n",
        "\n",
        "def orbital_velocity(M_earth, R_earth, h):\n",
        "    G = 6.67430e-11  # gravitational constant\n",
        "    v = math.sqrt(G * M_earth / (R_earth + h))\n",
        "    return v\n",
        "\n",
        "# Example values:\n",
        "M_earth = 5.972e24  # kg\n",
        "R_earth = 6.371e6  # m\n",
        "h = 500e3  # m\n",
        "v = orbital_velocity(M_earth, R_earth, h)\n",
        "print(f\"Problem 5: Orbital velocity: {v:.2f} m/s\")"
      ],
      "metadata": {
        "colab": {
          "base_uri": "https://localhost:8080/"
        },
        "id": "8oK1ujltJWRo",
        "outputId": "a5bcdcf6-073f-48c0-c050-68945bd4eefa"
      },
      "execution_count": 8,
      "outputs": [
        {
          "output_type": "stream",
          "name": "stdout",
          "text": [
            "Problem 5: Orbital velocity: 7616.45 m/s\n"
          ]
        }
      ]
    },
    {
      "cell_type": "code",
      "source": [
        "# Problem 6: Heat Transfer in a Sphere\n",
        "# Problem Statement:\n",
        "# A solid sphere is heated uniformly and begins to cool in air.\n",
        "# Calculate the cooling rate based on the surface area and temperature difference.\n",
        "# Special Approach:\n",
        "# - Use Newton's Law of Cooling and surface area of a sphere.\n",
        "\n",
        "def cooling_rate(k, A, delta_T):\n",
        "    return k * A * delta_T\n",
        "\n",
        "# Example values:\n",
        "k = 0.02  # W/m²K\n",
        "r = 0.1  # m\n",
        "delta_T = 30  # K\n",
        "A = 4 * math.pi * r**2  # surface area of the sphere\n",
        "rate = cooling_rate(k, A, delta_T)\n",
        "print(f\"Problem 6: Cooling rate: {rate:.2f} W\")\n"
      ],
      "metadata": {
        "colab": {
          "base_uri": "https://localhost:8080/"
        },
        "id": "AkXkfvVVJWZ9",
        "outputId": "8fb7b573-9b7f-4e11-82b7-df3008284000"
      },
      "execution_count": 9,
      "outputs": [
        {
          "output_type": "stream",
          "name": "stdout",
          "text": [
            "Problem 6: Cooling rate: 0.08 W\n"
          ]
        }
      ]
    },
    {
      "cell_type": "code",
      "source": [
        "# Problem 7: Damped Oscillator\n",
        "# Problem Statement:\n",
        "# A damped oscillator has a mass m, damping coefficient b, and spring constant k.\n",
        "# Find the damping ratio and determine whether the motion is overdamped, critically damped, or underdamped.\n",
        "# Special Approach:\n",
        "# - Calculate the damping ratio ζ and classify the damping.\n",
        "\n",
        "def damping_ratio(m, b, k):\n",
        "    omega_0 = math.sqrt(k / m)  # natural angular frequency\n",
        "    zeta = b / (2 * math.sqrt(m * k))  # damping ratio\n",
        "    if zeta < 1:\n",
        "        return \"Underdamped\"\n",
        "    elif zeta == 1:\n",
        "        return \"Critically damped\"\n",
        "    else:\n",
        "        return \"Overdamped\"\n",
        "\n",
        "# Example values:\n",
        "m = 1.0  # kg\n",
        "b = 0.5  # Ns/m\n",
        "k = 10.0  # N/m\n",
        "status = damping_ratio(m, b, k)\n",
        "print(f\"Problem 7: The oscillator is {status}\")"
      ],
      "metadata": {
        "colab": {
          "base_uri": "https://localhost:8080/"
        },
        "id": "apAbHH3OJWtM",
        "outputId": "3922319f-4d96-4a9f-b147-048dfe40fe39"
      },
      "execution_count": 10,
      "outputs": [
        {
          "output_type": "stream",
          "name": "stdout",
          "text": [
            "Problem 7: The oscillator is Underdamped\n"
          ]
        }
      ]
    },
    {
      "cell_type": "code",
      "source": [
        "# Problem 8: Interference of Light\n",
        "# Problem Statement:\n",
        "# Two coherent light sources with wavelength λ produce interference.\n",
        "# Calculate the position of the first-order maximum on a screen at a distance D.\n",
        "# Special Approach:\n",
        "# - Use the interference condition for maxima: path difference = mλ.\n",
        "\n",
        "def interference_maxima(D, d, m, wavelength):\n",
        "    x = (m * wavelength * D) / d\n",
        "    return x\n",
        "\n",
        "# Example values:\n",
        "D = 1.0  # m\n",
        "d = 0.01  # m (slit separation)\n",
        "m = 1  # first-order maximum\n",
        "wavelength = 500e-9  # m\n",
        "x = interference_maxima(D, d, m, wavelength)\n",
        "print(f\"Problem 8: Position of the first-order maximum: {x:.2e} m\")"
      ],
      "metadata": {
        "colab": {
          "base_uri": "https://localhost:8080/"
        },
        "id": "bDgVZDVYIj9v",
        "outputId": "f50f6247-78d6-4e9a-9976-eb023608c85e"
      },
      "execution_count": 11,
      "outputs": [
        {
          "output_type": "stream",
          "name": "stdout",
          "text": [
            "Problem 8: Position of the first-order maximum: 5.00e-05 m\n"
          ]
        }
      ]
    },
    {
      "cell_type": "code",
      "source": [
        "# Problem 9: Simple Pendulum with Moving Support\n",
        "# Problem Statement:\n",
        "# A pendulum is suspended from a point that moves with acceleration a.\n",
        "# Calculate the effective period of the pendulum.\n",
        "# Special Approach:\n",
        "# - Account for the effective gravitational acceleration: g_eff = sqrt(g² + a²).\n",
        "\n",
        "def effective_period(L, g, a):\n",
        "    g_eff = math.sqrt(g**2 + a**2)\n",
        "    T = 2 * math.pi * math.sqrt(L / g_eff)\n",
        "    return T\n",
        "\n",
        "# Example values:\n",
        "L = 1.0  # m\n",
        "g = 9.81  # m/s²\n",
        "a = 2.0  # m/s²\n",
        "T = effective_period(L, g, a)\n",
        "print(f\"Problem 9: Effective period of the pendulum: {T:.2f} s\")\n"
      ],
      "metadata": {
        "colab": {
          "base_uri": "https://localhost:8080/"
        },
        "id": "66MmoV2tKJRD",
        "outputId": "648a2029-d184-4cf6-fc80-aca782db5fbf"
      },
      "execution_count": 12,
      "outputs": [
        {
          "output_type": "stream",
          "name": "stdout",
          "text": [
            "Problem 9: Effective period of the pendulum: 1.99 s\n"
          ]
        }
      ]
    },
    {
      "cell_type": "code",
      "source": [
        "# Problem 10: Electric Dipole in a Field\n",
        "# Problem Statement:\n",
        "# An electric dipole with dipole moment p is placed in an electric field E.\n",
        "# Calculate the torque acting on the dipole.\n",
        "# Special Approach:\n",
        "# - Use the formula τ = p × E, where τ = p * E * sinθ.\n",
        "\n",
        "def dipole_torque(p, E, theta):\n",
        "    tau = p * E * math.sin(math.radians(theta))\n",
        "    return tau\n",
        "\n",
        "# Example values:\n",
        "p = 1.0e-9  # C·m\n",
        "E = 1.0e5  # N/C\n",
        "theta = 45  # degrees\n",
        "tau = dipole_torque(p, E, theta)\n",
        "print(f\"Problem 10: Torque on the dipole: {tau:.2e} N·m\")"
      ],
      "metadata": {
        "colab": {
          "base_uri": "https://localhost:8080/"
        },
        "id": "o_XSrhQ_KHDu",
        "outputId": "30057ac7-9da7-436b-e920-2cd83a8e7499"
      },
      "execution_count": 13,
      "outputs": [
        {
          "output_type": "stream",
          "name": "stdout",
          "text": [
            "Problem 10: Torque on the dipole: 7.07e-05 N·m\n"
          ]
        }
      ]
    },
    {
      "cell_type": "code",
      "source": [
        "# Problem 11: Diffraction Grating\n",
        "# Problem Statement:\n",
        "# Light of wavelength λ falls on a diffraction grating with N lines per unit length.\n",
        "# Calculate the angle θ for the first-order maximum.\n",
        "# Special Approach:\n",
        "# - Use the diffraction condition: d sinθ = mλ.\n",
        "\n",
        "def diffraction_angle(N, m, wavelength):\n",
        "    d = 1 / N\n",
        "    theta = math.asin(m * wavelength / d)\n",
        "    return math.degrees(theta)\n",
        "\n",
        "# Example values:\n",
        "N = 10000  # lines per meter\n",
        "m = 1  # first-order maximum\n",
        "wavelength = 500e-9  # m\n",
        "theta = diffraction_angle(N, m, wavelength)\n",
        "print(f\"Problem 11: Angle for the first-order maximum: {theta:.2f} degrees\")"
      ],
      "metadata": {
        "colab": {
          "base_uri": "https://localhost:8080/"
        },
        "id": "UQpY_-HJKHH1",
        "outputId": "b86541bf-566d-4fa8-9b61-20cab3f69878"
      },
      "execution_count": 14,
      "outputs": [
        {
          "output_type": "stream",
          "name": "stdout",
          "text": [
            "Problem 11: Angle for the first-order maximum: 0.29 degrees\n"
          ]
        }
      ]
    },
    {
      "cell_type": "code",
      "source": [
        "# Problem 12: Capacitor with Dielectric\n",
        "# Problem Statement:\n",
        "# A parallel-plate capacitor with a dielectric of constant k is charged.\n",
        "# Calculate the new capacitance.\n",
        "# Special Approach:\n",
        "# - Use the formula C' = k * C.\n",
        "\n",
        "def capacitor_with_dielectric(C, k):\n",
        "    C_new = C * k\n",
        "    return C_new\n",
        "\n",
        "# Example values:\n",
        "C = 1.0e-6  # F\n",
        "k = 2.5  # dielectric constant\n",
        "C_new = capacitor_with_dielectric(C, k)\n",
        "print(f\"Problem 12: New capacitance: {C_new:.2e} F\")"
      ],
      "metadata": {
        "colab": {
          "base_uri": "https://localhost:8080/"
        },
        "id": "d7uaKMKdKHL6",
        "outputId": "21bc6f7c-8362-47ee-9743-fecb95edeeb4"
      },
      "execution_count": 15,
      "outputs": [
        {
          "output_type": "stream",
          "name": "stdout",
          "text": [
            "Problem 12: New capacitance: 2.50e-06 F\n"
          ]
        }
      ]
    },
    {
      "cell_type": "code",
      "source": [
        "# Problem 13: Doppler Effect in Sound\n",
        "# Problem Statement:\n",
        "# A source emits sound at frequency f. Calculate the observed frequency when the source moves with velocity v_s.\n",
        "# Special Approach:\n",
        "# - Use the Doppler effect formula: f' = f * (v + v_o) / (v - v_s).\n",
        "\n",
        "def doppler_effect(f, v, v_s, v_o=0):\n",
        "    f_prime = f * (v + v_o) / (v - v_s)\n",
        "    return f_prime\n",
        "\n",
        "# Example values:\n",
        "f = 440  # Hz\n",
        "v = 343  # m/s\n",
        "v_s = 50  # m/s\n",
        "f_prime = doppler_effect(f, v, v_s)\n",
        "print(f\"Problem 13: Observed frequency: {f_prime:.2f} Hz\")"
      ],
      "metadata": {
        "colab": {
          "base_uri": "https://localhost:8080/"
        },
        "id": "98C7bAGAKHPa",
        "outputId": "d89e5eb2-0059-4ae2-b182-2c95e89e9f5f"
      },
      "execution_count": 16,
      "outputs": [
        {
          "output_type": "stream",
          "name": "stdout",
          "text": [
            "Problem 13: Observed frequency: 515.09 Hz\n"
          ]
        }
      ]
    },
    {
      "cell_type": "code",
      "source": [
        "# Problem 14: RC Circuit Charging\n",
        "# Problem Statement:\n",
        "# A capacitor in an RC circuit is being charged.\n",
        "# Calculate the voltage across the capacitor after time t.\n",
        "# Special Approach:\n",
        "# - Use the charging formula: V(t) = V₀ * (1 - e^(-t / RC)).\n",
        "\n",
        "def rc_circuit_charging(V0, R, C, t):\n",
        "    V = V0 * (1 - math.exp(-t / (R * C)))\n",
        "    return V\n",
        "\n",
        "# Example values:\n",
        "V0 = 5.0  # V\n",
        "R = 1000  # Ω\n",
        "C = 1.0e-6  # F\n",
        "t = 0.1  # s\n",
        "V = rc_circuit_charging(V0, R, C, t)\n",
        "print(f\"Problem 14: Voltage across the capacitor: {V:.2f} V\")"
      ],
      "metadata": {
        "colab": {
          "base_uri": "https://localhost:8080/"
        },
        "id": "DBlfoBrBKHTu",
        "outputId": "01c71d07-83f3-44c1-85f5-8e77b0452b5f"
      },
      "execution_count": 17,
      "outputs": [
        {
          "output_type": "stream",
          "name": "stdout",
          "text": [
            "Problem 14: Voltage across the capacitor: 5.00 V\n"
          ]
        }
      ]
    },
    {
      "cell_type": "code",
      "source": [
        "# Problem 15: Kinetic Theory of Gases - Root Mean Square Speed\n",
        "# Problem Statement:\n",
        "# Calculate the root mean square (rms) speed of gas molecules at a temperature T.\n",
        "# Special Approach:\n",
        "# - Use the formula v_rms = sqrt(3kT/m), where k is Boltzmann's constant.\n",
        "\n",
        "def rms_speed(T, M):\n",
        "    k = 1.38e-23  # Boltzmann constant in J/K\n",
        "    M_kg = M / 6.022e23  # molar mass to kg per molecule\n",
        "    v_rms = math.sqrt(3 * k * T / M_kg)\n",
        "    return v_rms\n",
        "\n",
        "# Example values:\n",
        "T = 300  # K\n",
        "M = 0.032  # kg/mol (Oxygen gas)\n",
        "v_rms = rms_speed(T, M)\n",
        "print(f\"Problem 15: RMS speed of gas molecules: {v_rms:.2f} m/s\")\n"
      ],
      "metadata": {
        "colab": {
          "base_uri": "https://localhost:8080/"
        },
        "id": "k43TSYxDI4-c",
        "outputId": "45d605c5-f469-401b-d163-b6e36059d6d1"
      },
      "execution_count": 18,
      "outputs": [
        {
          "output_type": "stream",
          "name": "stdout",
          "text": [
            "Problem 15: RMS speed of gas molecules: 483.46 m/s\n"
          ]
        }
      ]
    },
    {
      "cell_type": "code",
      "source": [
        "# Problem 16: Magnetic Field of a Current Loop\n",
        "# Problem Statement:\n",
        "# A circular loop of radius R carries current I. Calculate the magnetic field at its center.\n",
        "# Special Approach:\n",
        "# - Use the Biot-Savart Law: B = μ₀I / (2R).\n",
        "\n",
        "def magnetic_field_loop(I, R):\n",
        "    mu_0 = 4 * math.pi * 1e-7  # permeability of free space\n",
        "    B = mu_0 * I / (2 * R)\n",
        "    return B\n",
        "\n",
        "# Example values:\n",
        "I = 10  # A\n",
        "R = 0.05  # m\n",
        "B = magnetic_field_loop(I, R)\n",
        "print(f\"Problem 16: Magnetic field at the center of the loop: {B:.2e} T\")"
      ],
      "metadata": {
        "colab": {
          "base_uri": "https://localhost:8080/"
        },
        "id": "tKBsAB-RKsdT",
        "outputId": "f2172e12-093a-408e-ea5b-423987039676"
      },
      "execution_count": 19,
      "outputs": [
        {
          "output_type": "stream",
          "name": "stdout",
          "text": [
            "Problem 16: Magnetic field at the center of the loop: 1.26e-04 T\n"
          ]
        }
      ]
    },
    {
      "cell_type": "code",
      "source": [
        "# Problem 17: Projectile Motion - Maximum Range\n",
        "# Problem Statement:\n",
        "# Calculate the maximum range of a projectile launched at angle θ with initial velocity v.\n",
        "# Special Approach:\n",
        "# - Use the range formula R = (v² * sin(2θ)) / g for optimal conditions.\n",
        "\n",
        "def max_range(v, g=9.81):\n",
        "    R_max = (v**2) / g\n",
        "    return R_max\n",
        "\n",
        "# Example values:\n",
        "v = 20  # m/s\n",
        "R_max = max_range(v)\n",
        "print(f\"Problem 17: Maximum range of the projectile: {R_max:.2f} m\")"
      ],
      "metadata": {
        "colab": {
          "base_uri": "https://localhost:8080/"
        },
        "id": "bV49pbPWKsk5",
        "outputId": "5c1cfd76-c204-45be-8614-50ba7ae62870"
      },
      "execution_count": 20,
      "outputs": [
        {
          "output_type": "stream",
          "name": "stdout",
          "text": [
            "Problem 17: Maximum range of the projectile: 40.77 m\n"
          ]
        }
      ]
    },
    {
      "cell_type": "code",
      "source": [
        "# Problem 18: Thin Lens Formula\n",
        "# Problem Statement:\n",
        "# A convex lens has a focal length f. Calculate the image distance for an object at distance u.\n",
        "# Special Approach:\n",
        "# - Use the lens formula: 1/f = 1/u + 1/v.\n",
        "\n",
        "def lens_image_distance(f, u):\n",
        "    v = 1 / ((1 / f) - (1 / u))\n",
        "    return v\n",
        "\n",
        "# Example values:\n",
        "f = 0.1  # m\n",
        "u = 0.2  # m\n",
        "v = lens_image_distance(f, u)\n",
        "print(f\"Problem 18: Image distance: {v:.2f} m\")"
      ],
      "metadata": {
        "colab": {
          "base_uri": "https://localhost:8080/"
        },
        "id": "adf8QMGHKsr-",
        "outputId": "a8cc80f0-d21c-43ad-e964-8b8ef37d694c"
      },
      "execution_count": 21,
      "outputs": [
        {
          "output_type": "stream",
          "name": "stdout",
          "text": [
            "Problem 18: Image distance: 0.20 m\n"
          ]
        }
      ]
    },
    {
      "cell_type": "code",
      "source": [
        "# Problem 19: Heat Transfer - Newton’s Law of Cooling\n",
        "# Problem Statement:\n",
        "# A body cools from an initial temperature T₀ to ambient temperature T_a.\n",
        "# Calculate the temperature after time t.\n",
        "# Special Approach:\n",
        "# - Use Newton's Law: T(t) = T_a + (T₀ - T_a) * e^(-kt).\n",
        "\n",
        "def newtons_cooling(T0, Ta, k, t):\n",
        "    T = Ta + (T0 - Ta) * math.exp(-k * t)\n",
        "    return T\n",
        "\n",
        "# Example values:\n",
        "T0 = 100  # °C\n",
        "Ta = 25  # °C\n",
        "k = 0.01  # cooling constant\n",
        "t = 100  # seconds\n",
        "T = newtons_cooling(T0, Ta, k, t)\n",
        "print(f\"Problem 19: Temperature after {t} seconds: {T:.2f} °C\")"
      ],
      "metadata": {
        "colab": {
          "base_uri": "https://localhost:8080/"
        },
        "id": "F0DfQsrdKs0L",
        "outputId": "6640d729-2e52-4d33-ca8d-3d8c68fc9a82"
      },
      "execution_count": 22,
      "outputs": [
        {
          "output_type": "stream",
          "name": "stdout",
          "text": [
            "Problem 19: Temperature after 100 seconds: 52.59 °C\n"
          ]
        }
      ]
    },
    {
      "cell_type": "code",
      "source": [
        "# Problem 20: Relativity - Time Dilation\n",
        "# Problem Statement:\n",
        "# Calculate the time experienced by a moving observer traveling at velocity v.\n",
        "# Special Approach:\n",
        "# - Use the time dilation formula: Δt' = Δt * sqrt(1 - (v²/c²)).\n",
        "\n",
        "def time_dilation(delta_t, v, c=3e8):\n",
        "    delta_t_prime = delta_t * math.sqrt(1 - (v**2 / c**2))\n",
        "    return delta_t_prime\n",
        "\n",
        "# Example values:\n",
        "delta_t = 1  # s\n",
        "v = 2e8  # m/s\n",
        "delta_t_prime = time_dilation(delta_t, v)\n",
        "print(f\"Problem 20: Dilated time: {delta_t_prime:.6f} s\")\n"
      ],
      "metadata": {
        "colab": {
          "base_uri": "https://localhost:8080/"
        },
        "id": "nQI3Wcv0Ks8F",
        "outputId": "f360b084-0c4b-4d57-c69d-65548433fbb4"
      },
      "execution_count": 23,
      "outputs": [
        {
          "output_type": "stream",
          "name": "stdout",
          "text": [
            "Problem 20: Dilated time: 0.745356 s\n"
          ]
        }
      ]
    }
  ]
}